{
 "cells": [
  {
   "cell_type": "code",
   "execution_count": 1,
   "id": "6742d35c",
   "metadata": {},
   "outputs": [
    {
     "name": "stdout",
     "output_type": "stream",
     "text": [
      "Jai Jagannath !!\n"
     ]
    }
   ],
   "source": [
    "print(\"Jai Jagannath !!\")"
   ]
  },
  {
   "cell_type": "markdown",
   "id": "8df68d26",
   "metadata": {},
   "source": [
    "# Python keywords :- Reserved Words used to carry out specific commands"
   ]
  },
  {
   "cell_type": "code",
   "execution_count": 2,
   "id": "3055240b",
   "metadata": {},
   "outputs": [
    {
     "name": "stdout",
     "output_type": "stream",
     "text": [
      "['False', 'None', 'True', '__peg_parser__', 'and', 'as', 'assert', 'async', 'await', 'break', 'class', 'continue', 'def', 'del', 'elif', 'else', 'except', 'finally', 'for', 'from', 'global', 'if', 'import', 'in', 'is', 'lambda', 'nonlocal', 'not', 'or', 'pass', 'raise', 'return', 'try', 'while', 'with', 'yield']\n"
     ]
    }
   ],
   "source": [
    "import keyword\n",
    "print(keyword.kwlist)"
   ]
  },
  {
   "cell_type": "markdown",
   "id": "6df3b670",
   "metadata": {},
   "source": [
    "# identifiers :- These are names given to anything in python by the programmer\n",
    "\n",
    "<pre>\n",
    "Rules for taking valid identifier : -\n",
    "\n",
    "1. It should not be a Keyword\n",
    "2. It cannot start with a digit \n",
    "3. it cannot have any special character except _ "
   ]
  },
  {
   "cell_type": "markdown",
   "id": "a577f774",
   "metadata": {},
   "source": [
    "# variables :- variables are names given to memory locations that can hold some value.\n",
    "\n",
    "<pre>\n",
    "<b>Since variables are iderntifiers the rules are the same</b>\n",
    "In Python variables need not be declared"
   ]
  },
  {
   "cell_type": "code",
   "execution_count": 3,
   "id": "de456fad",
   "metadata": {},
   "outputs": [],
   "source": [
    "a = 12\n",
    "b = 2.4\n",
    "c = 3+4j\n",
    "d = \"dog\"\n",
    "e = [1,2,3]\n",
    "f = (1,2,3)\n",
    "g = {1,2,3}\n",
    "h = {'a':12,'b':3.5}\n",
    "i = False"
   ]
  },
  {
   "cell_type": "markdown",
   "id": "2a768f25",
   "metadata": {},
   "source": [
    "# The datatype of any variable can be found using type() function ,¶\n",
    "syntax:- \n",
    "\n",
    "type(var)"
   ]
  },
  {
   "cell_type": "code",
   "execution_count": 4,
   "id": "01ed7c1d",
   "metadata": {},
   "outputs": [
    {
     "name": "stdout",
     "output_type": "stream",
     "text": [
      "datatype of a: <class 'int'>\n",
      "datatype of b: <class 'float'>\n",
      "datatype of c: <class 'complex'>\n",
      "datatype of d: <class 'str'>\n",
      "datatype of e: <class 'list'>\n",
      "datatype of f: <class 'tuple'>\n",
      "datatype of g: <class 'set'>\n",
      "datatype of h: <class 'dict'>\n",
      "datatype of i: <class 'bool'>\n"
     ]
    }
   ],
   "source": [
    "print('datatype of a:', type(a))\n",
    "print('datatype of b:', type(b))\n",
    "print('datatype of c:', type(c))\n",
    "print('datatype of d:', type(d))\n",
    "print('datatype of e:', type(e))\n",
    "print('datatype of f:', type(f))\n",
    "print('datatype of g:', type(g))\n",
    "print('datatype of h:', type(h))\n",
    "print('datatype of i:', type(i))"
   ]
  },
  {
   "cell_type": "markdown",
   "id": "9435059f",
   "metadata": {},
   "source": [
    "# Operators In Python :-\n",
    "<pre>\n",
    "1.Assignment Operator\n",
    "2.Arithmetic Operators\n",
    "3.Comparison Operators\n",
    "4.Logical operators\n",
    "5.Bitwise Operators"
   ]
  },
  {
   "cell_type": "markdown",
   "id": "04a39837",
   "metadata": {},
   "source": [
    " <pre>\n",
    "1. Assignment operator :-\n",
    "\n",
    "symbol | function\n",
    " =     | assigns the Right Hand side value to left hand side variable\n",
    " \n",
    "\n",
    "2. Arithmetic operator :- carry out basic arithmetic ops\n",
    "\n",
    "symbol      |     function           | example\n",
    "\n",
    " +          |    adds the operands   |  3+2  >> 5\n",
    " -          |   subtracts            |  3-2  >> 1\n",
    " *          |    multiply            |  3*2  >> 6\n",
    " /          |    divide              |  6/2  >> 3\n",
    " **         |    power               |  2**3 >> 8 (2 cube)\n",
    " //         |    floor divide        |  5//2 >> 2\n",
    "            |    (return only the    |\n",
    "            |    Integer part of     |\n",
    "            |     ivision)           |\n",
    " %          |    modulus remainder   | 17%3 >> 2\n",
    " \n",
    " 3. comparison :- used to compare LHS and RHS, give a True or False \n",
    " \n",
    " ==  equal to\n",
    " !=  not equal to\n",
    " >   greater than\n",
    " <   less than\n",
    " >=  greater than or equal to\n",
    " <=  less than or equal to\n",
    "\n",
    "\n",
    "4. Logical operators\n",
    "\n",
    "1. AND\n",
    "2. OR\n",
    "3. NOT\n",
    "\n",
    "5. bitwise operators :- perform bitwise operations\n",
    "\n",
    "1. & :- bitwise and\n",
    "2. | :- bitwise or\n",
    "3. ~ :- bitwise not\n",
    "</pre>"
   ]
  },
  {
   "cell_type": "code",
   "execution_count": null,
   "id": "0241da59",
   "metadata": {},
   "outputs": [],
   "source": []
  }
 ],
 "metadata": {
  "kernelspec": {
   "display_name": "Python 3 (ipykernel)",
   "language": "python",
   "name": "python3"
  },
  "language_info": {
   "codemirror_mode": {
    "name": "ipython",
    "version": 3
   },
   "file_extension": ".py",
   "mimetype": "text/x-python",
   "name": "python",
   "nbconvert_exporter": "python",
   "pygments_lexer": "ipython3",
   "version": "3.9.12"
  }
 },
 "nbformat": 4,
 "nbformat_minor": 5
}
